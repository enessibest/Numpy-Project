{
  "nbformat": 4,
  "nbformat_minor": 0,
  "metadata": {
    "colab": {
      "name": "Numpy-project",
      "provenance": [],
      "collapsed_sections": []
    },
    "kernelspec": {
      "name": "python3",
      "display_name": "Python 3"
    },
    "language_info": {
      "name": "python"
    }
  },
  "cells": [
    {
      "cell_type": "code",
      "execution_count": null,
      "metadata": {
        "id": "B411Od8egYF0"
      },
      "outputs": [],
      "source": [
        "import numpy as np\n"
      ]
    },
    {
      "cell_type": "code",
      "source": [
        "data_link ='/content/KAG_Conversion_Data.csv'"
      ],
      "metadata": {
        "id": "oWOx4CNhgpOJ"
      },
      "execution_count": null,
      "outputs": []
    },
    {
      "cell_type": "markdown",
      "source": [
        "Loading the Data"
      ],
      "metadata": {
        "id": "jP8GOtoEhNRN"
      }
    },
    {
      "cell_type": "code",
      "source": [
        "data = np.genfromtxt(data_link, delimiter=\",\", skip_header=1,dtype=str)\n",
        "data1 = np.genfromtxt(data_link, delimiter=\",\", skip_header=1,dtype=float)\n",
        "\n",
        "print(\"\\nData: \\n\\n\", data)"
      ],
      "metadata": {
        "colab": {
          "base_uri": "https://localhost:8080/"
        },
        "id": "s4e4sJFThLqB",
        "outputId": "ee60aeac-c224-4f35-a890-03b4f44be8b6"
      },
      "execution_count": null,
      "outputs": [
        {
          "output_type": "stream",
          "name": "stdout",
          "text": [
            "\n",
            "Data: \n",
            "\n",
            " [['708746' '916' '103916' ... '1.429999948' '2' '1']\n",
            " ['708749' '916' '103917' ... '1.820000023' '2' '0']\n",
            " ['708771' '916' '103920' ... '0' '1' '0']\n",
            " ...\n",
            " ['1314412' '1178' '179979' ... '40.28999949' '2' '0']\n",
            " ['1314414' '1178' '179981' ... '198.7100005' '8' '2']\n",
            " ['1314415' '1178' '179982' ... '165.6099987' '5' '2']]\n"
          ]
        }
      ]
    },
    {
      "cell_type": "markdown",
      "source": [
        "Features:\n",
        "1.ad_id: unique ID for each ad\n",
        "\n",
        "2.xyzcampaignid: an ID associated with each ad campaign of XYZ company\n",
        "\n",
        "3.fbcampaignid: an ID associated with how Facebook tracks each campaign\n",
        "\n",
        "4.age: age of the person to whom the ad is shown\n",
        "\n",
        "5.gender: gender of the person to whom the add is shown\n",
        "\n",
        "6.interest: a code specifying the category to which the person’s interest belongs (interests are as mentioned in the person’s Facebook public profile)\n",
        "\n",
        "7.Impressions: the number of times the ad was shown\n",
        "\n",
        "8.Clicks: number of clicks on for that ad\n",
        "9.Spent: Amount paid by company xyz to Facebook, to show that ad\n",
        "\n",
        "10.Total conversion: Total number of people who enquired about the product after seeing the ad\n",
        "\n",
        "11.Approved conversion: Total number of people who bought the product after seeing the ad\n"
      ],
      "metadata": {
        "id": "LI4x_lAIi6kp"
      }
    },
    {
      "cell_type": "markdown",
      "source": [
        "Q1. How many unique ad campaigns (xyzcampaignid) does this data contain ? And for how many times was each campaign run ?"
      ],
      "metadata": {
        "id": "Ne-5eE_Fj3Yf"
      }
    },
    {
      "cell_type": "code",
      "source": [
        "#extract all the data in the first column  \n",
        "x= data[:,1]\n",
        "unique_id= np.unique(x)\n",
        "unique_id"
      ],
      "metadata": {
        "colab": {
          "base_uri": "https://localhost:8080/"
        },
        "id": "qnsICnc6j6GZ",
        "outputId": "731dd7ed-c2f8-459b-8952-4213dc002fbc"
      },
      "execution_count": null,
      "outputs": [
        {
          "output_type": "execute_result",
          "data": {
            "text/plain": [
              "array(['1178', '916', '936'], dtype='<U11')"
            ]
          },
          "metadata": {},
          "execution_count": 9
        }
      ]
    },
    {
      "cell_type": "code",
      "source": [
        "#determining how many unique id and how many times the campaign run\n",
        "unique_id,count=np.unique(x,return_counts=True)\n",
        "print(\"unique id is\",unique_id)\n",
        "print('count is',count)\n",
        "\n",
        "#numbers of unique id\n",
        "print(\"Total Number of Unique id\",unique_id.size)\n",
        "\n"
      ],
      "metadata": {
        "colab": {
          "base_uri": "https://localhost:8080/"
        },
        "id": "oL32ZxI5lNLH",
        "outputId": "c9f706c3-56e5-440a-8dbc-913074006e60"
      },
      "execution_count": null,
      "outputs": [
        {
          "output_type": "stream",
          "name": "stdout",
          "text": [
            "unique id is ['1178' '916' '936']\n",
            "count is [625  54 464]\n",
            "Total Number of Unique id 3\n"
          ]
        }
      ]
    },
    {
      "cell_type": "code",
      "source": [
        "#details explanation on how many times each program was run\n",
        "print(\"The id\",unique_id[0],\"is run\",count[0])\n",
        "print(\"The id\",unique_id[1],\"is run\",count[1])\n",
        "print(\"The id\",unique_id[2],\"is run\",count[2])"
      ],
      "metadata": {
        "colab": {
          "base_uri": "https://localhost:8080/"
        },
        "id": "kNkAT0tOm0ZG",
        "outputId": "9c111aa0-3ee1-400b-8f2a-7f5e0c58c718"
      },
      "execution_count": null,
      "outputs": [
        {
          "output_type": "stream",
          "name": "stdout",
          "text": [
            "The id 1178 is run 625\n",
            "The id 916 is run 54\n",
            "The id 936 is run 464\n"
          ]
        }
      ]
    },
    {
      "cell_type": "markdown",
      "source": [
        "# 2. What are the age groups that were targeted through these ad campaigns?"
      ],
      "metadata": {
        "id": "ZPCaMa6Mphj-"
      }
    },
    {
      "cell_type": "code",
      "source": [
        "age_group= data[:,3]\n",
        "age_group"
      ],
      "metadata": {
        "colab": {
          "base_uri": "https://localhost:8080/"
        },
        "id": "9gmzGakbpkiU",
        "outputId": "0e982b18-8ebe-453e-d900-d22feed07d1f"
      },
      "execution_count": null,
      "outputs": [
        {
          "output_type": "execute_result",
          "data": {
            "text/plain": [
              "array(['30-34', '30-34', '30-34', ..., '45-49', '45-49', '45-49'],\n",
              "      dtype='<U11')"
            ]
          },
          "metadata": {},
          "execution_count": 12
        }
      ]
    },
    {
      "cell_type": "code",
      "source": [
        "unique_age_group=np.unique(age_group)\n",
        "unique_age_group"
      ],
      "metadata": {
        "colab": {
          "base_uri": "https://localhost:8080/"
        },
        "id": "hn_zvH5iqj5O",
        "outputId": "e56f68ac-6068-4b3d-9acc-307df12a1fd0"
      },
      "execution_count": null,
      "outputs": [
        {
          "output_type": "execute_result",
          "data": {
            "text/plain": [
              "array(['30-34', '35-39', '40-44', '45-49'], dtype='<U11')"
            ]
          },
          "metadata": {},
          "execution_count": 13
        }
      ]
    },
    {
      "cell_type": "markdown",
      "source": [
        "# What was the average, minimum and maximum amount spent on the ads?"
      ],
      "metadata": {
        "id": "h8eVJDNBrY9C"
      }
    },
    {
      "cell_type": "code",
      "source": [
        "amount_ads= data1[:,8]\n",
        "print(amount_ads)"
      ],
      "metadata": {
        "colab": {
          "base_uri": "https://localhost:8080/"
        },
        "id": "mKWh6aI2reRy",
        "outputId": "92cbf3a0-dab9-44ee-8cc1-f912a4ba5ef9"
      },
      "execution_count": null,
      "outputs": [
        {
          "output_type": "stream",
          "name": "stdout",
          "text": [
            "[  1.42999995   1.82000002   0.         ...  40.28999949 198.7100005\n",
            " 165.6099987 ]\n"
          ]
        }
      ]
    },
    {
      "cell_type": "markdown",
      "source": [
        "average"
      ],
      "metadata": {
        "id": "hhrVuARfrvUY"
      }
    },
    {
      "cell_type": "code",
      "source": [
        "#average amount spent on the ads\n",
        "average=  amount_ads.mean()\n",
        "print(average)"
      ],
      "metadata": {
        "colab": {
          "base_uri": "https://localhost:8080/"
        },
        "id": "T10BkFbsryXr",
        "outputId": "f7aa31cf-1a05-4671-dd09-00c3f0d3c53d"
      },
      "execution_count": null,
      "outputs": [
        {
          "output_type": "stream",
          "name": "stdout",
          "text": [
            "51.36065613141295\n"
          ]
        }
      ]
    },
    {
      "cell_type": "markdown",
      "source": [
        "minimum"
      ],
      "metadata": {
        "id": "v8QwOdE4sbAB"
      }
    },
    {
      "cell_type": "code",
      "source": [
        "#minimum amount spent on the ads\n",
        "print(min(amount_ads))\n"
      ],
      "metadata": {
        "colab": {
          "base_uri": "https://localhost:8080/"
        },
        "id": "kTMSKG_dseYg",
        "outputId": "54151369-42e6-4327-bb4a-6d954df807dc"
      },
      "execution_count": null,
      "outputs": [
        {
          "output_type": "stream",
          "name": "stdout",
          "text": [
            "0.0\n"
          ]
        }
      ]
    },
    {
      "cell_type": "code",
      "source": [
        "#maximum amount spent on the ads\n",
        "print(max(amount_ads))"
      ],
      "metadata": {
        "colab": {
          "base_uri": "https://localhost:8080/"
        },
        "id": "3KeobOKZsyjC",
        "outputId": "85d07162-060d-4c57-9191-cbc3d75a2919"
      },
      "execution_count": null,
      "outputs": [
        {
          "output_type": "stream",
          "name": "stdout",
          "text": [
            "639.9499981\n"
          ]
        }
      ]
    },
    {
      "cell_type": "markdown",
      "source": [
        "# What is the id of the ad having the maximum number of clicks ?"
      ],
      "metadata": {
        "id": "PD3zlvGitGEQ"
      }
    },
    {
      "cell_type": "code",
      "source": [
        "#extract all the data in the 7th column \n",
        "clicks= data1[:,7]\n",
        "print(clicks)\n"
      ],
      "metadata": {
        "colab": {
          "base_uri": "https://localhost:8080/"
        },
        "id": "T9tyoUVQtH2R",
        "outputId": "8a7313a4-49a2-4b0f-cfe8-38503691de82"
      },
      "execution_count": null,
      "outputs": [
        {
          "output_type": "stream",
          "name": "stdout",
          "text": [
            "[  1.   2.   0. ...  28. 135. 114.]\n"
          ]
        }
      ]
    },
    {
      "cell_type": "code",
      "source": [
        "b=max(clicks)\n",
        "print('the maximum click is',b)"
      ],
      "metadata": {
        "colab": {
          "base_uri": "https://localhost:8080/"
        },
        "id": "aAL6ixaYtaMs",
        "outputId": "08c5d121-e070-4139-85d5-538dba5ddea8"
      },
      "execution_count": null,
      "outputs": [
        {
          "output_type": "stream",
          "name": "stdout",
          "text": [
            "the maximum click is 421.0\n"
          ]
        }
      ]
    },
    {
      "cell_type": "code",
      "source": [
        "print(int(data1[:,0][data1[:,7]==b]))\n"
      ],
      "metadata": {
        "colab": {
          "base_uri": "https://localhost:8080/"
        },
        "id": "daWzmXYGtzWt",
        "outputId": "7ed35854-182f-4d51-dc7b-c739ff4d5fb1"
      },
      "execution_count": null,
      "outputs": [
        {
          "output_type": "stream",
          "name": "stdout",
          "text": [
            "1121814\n"
          ]
        }
      ]
    },
    {
      "cell_type": "code",
      "source": [
        "y = data1[:,10]\n",
        "print(y)\n",
        "#total number of people that bought the product\n",
        "\n",
        "amount_bought=y.sum()\n",
        "print('the number of people that bought the product is',amount_bought)\n",
        "\n",
        "max_number= (max(y))\n",
        "print('the max purchase in the dataset is',max_number)"
      ],
      "metadata": {
        "colab": {
          "base_uri": "https://localhost:8080/"
        },
        "id": "XfMbzvkSujZv",
        "outputId": "07be2c41-ad9c-4b64-e9f5-08c00db267d7"
      },
      "execution_count": null,
      "outputs": [
        {
          "output_type": "stream",
          "name": "stdout",
          "text": [
            "[1. 0. 0. ... 0. 2. 2.]\n",
            "the number of people that bought the product is 1079.0\n",
            "the max purchase in the dataset is 21.0\n"
          ]
        }
      ]
    },
    {
      "cell_type": "code",
      "source": [
        "max_clicks=(max(data1[:,7]))\n",
        "print(max_clicks)"
      ],
      "metadata": {
        "colab": {
          "base_uri": "https://localhost:8080/"
        },
        "id": "CFwpFeKdCZ10",
        "outputId": "aff74b52-c693-47dd-f07f-932a0134445d"
      },
      "execution_count": null,
      "outputs": [
        {
          "output_type": "stream",
          "name": "stdout",
          "text": [
            "421.0\n"
          ]
        }
      ]
    },
    {
      "cell_type": "code",
      "source": [
        "#maximum number in this column \n",
        "Approved=y.max()\n",
        "print(Approved)"
      ],
      "metadata": {
        "colab": {
          "base_uri": "https://localhost:8080/"
        },
        "id": "CwpxBJ6WC5lC",
        "outputId": "3e99a653-cbc7-416e-903e-eb45ba13bd3d"
      },
      "execution_count": null,
      "outputs": [
        {
          "output_type": "stream",
          "name": "stdout",
          "text": [
            "21.0\n"
          ]
        }
      ]
    },
    {
      "cell_type": "code",
      "source": [
        "#number of people who bought the product after seeing the ad with max clicks\n",
        "print(int(data1[:,10][data1[:,7]==421]))"
      ],
      "metadata": {
        "colab": {
          "base_uri": "https://localhost:8080/"
        },
        "id": "Ghqw33X2Eps9",
        "outputId": "b350d6aa-175b-4be0-aad7-ef4489ed0f3c"
      },
      "execution_count": null,
      "outputs": [
        {
          "output_type": "stream",
          "name": "stdout",
          "text": [
            "13\n"
          ]
        }
      ]
    },
    {
      "cell_type": "markdown",
      "source": [
        "# So the ad with the most clicks didn't fetch the maximum number of purchases. Find the details of the product having maximum number of purchases"
      ],
      "metadata": {
        "id": "38arU2o4RuyC"
      }
    },
    {
      "cell_type": "code",
      "source": [
        "data[data[:,10]==\"21\"]"
      ],
      "metadata": {
        "colab": {
          "base_uri": "https://localhost:8080/"
        },
        "id": "_5NPpi7gRuUw",
        "outputId": "62fe17ed-ab02-4abb-e0aa-bd0710c4ab45"
      },
      "execution_count": null,
      "outputs": [
        {
          "output_type": "execute_result",
          "data": {
            "text/plain": [
              "array([['1121104', '1178', '144533', '30-34', 'M', '16', '2080666',\n",
              "        '202', '360.1500015', '40', '21']], dtype='<U11')"
            ]
          },
          "metadata": {},
          "execution_count": 30
        }
      ]
    }
  ]
}